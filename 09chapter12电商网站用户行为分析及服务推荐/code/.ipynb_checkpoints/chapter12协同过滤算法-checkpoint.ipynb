{
 "cells": [
  {
   "cell_type": "code",
   "execution_count": null,
   "metadata": {},
   "outputs": [],
   "source": [
    "# 用python实现协同过滤算法\n",
    "import numpy as np\n",
    "def Jaccard(a, b):     # 定义杰卡德相似系数函数，仅对0-1矩阵有效\n",
    "    return 1.0*(a*b).sum()/(a+b-a*b).sum()   \n",
    "\n",
    "class Recommender():\n",
    "    sim = None   # 相似度矩阵，初始化为空\n",
    "    \n",
    "    def similarity(self, x, distance):  # 计算相似度矩阵的函数\n",
    "        y = np.ones((len(x), len(x)))\n",
    "        for i in range(len(x)):\n",
    "            for j in range(len(x)):\n",
    "                y[i, j] = distance(x[i], x[j])\n",
    "        return y\n",
    "    \n",
    "    def fit(self, x, distance=Jacard):   # 训练函数\n",
    "        self.sim = self.similarity(x, distance)\n",
    "    \n",
    "    def recommend(self, a):   # 推荐函数\n",
    "        return np.dot(self.sim, a) * (1-a)"
   ]
  }
 ],
 "metadata": {
  "kernelspec": {
   "display_name": "Python 3",
   "language": "python",
   "name": "python3"
  },
  "language_info": {
   "codemirror_mode": {
    "name": "ipython",
    "version": 3
   },
   "file_extension": ".py",
   "mimetype": "text/x-python",
   "name": "python",
   "nbconvert_exporter": "python",
   "pygments_lexer": "ipython3",
   "version": "3.6.5"
  }
 },
 "nbformat": 4,
 "nbformat_minor": 2
}
